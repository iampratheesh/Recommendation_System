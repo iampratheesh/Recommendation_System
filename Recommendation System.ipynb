{
 "cells": [
  {
   "cell_type": "code",
   "execution_count": 3,
   "metadata": {},
   "outputs": [],
   "source": [
    "import numpy as np\n",
    "import pandas as pd\n",
    "from sklearn.model_selection import train_test_split"
   ]
  },
  {
   "cell_type": "code",
   "execution_count": 2,
   "metadata": {
    "collapsed": true
   },
   "outputs": [],
   "source": [
    "df_restaurants = pd.read_csv('data_restaurant.csv')\n",
    "df_reviews = pd.read_csv('data_reviews.csv')\n",
    "#dropping columns which are not useful\n",
    "df_restaurants.drop(columns = ['Unnamed: 0'], inplace = True)\n",
    "df_reviews.drop(columns = ['Unnamed: 0', 'cool', 'date', 'funny', 'review_id', 'text', 'useful'], inplace = True)  "
   ]
  },
  {
   "cell_type": "code",
   "execution_count": 4,
   "metadata": {
    "collapsed": true
   },
   "outputs": [],
   "source": [
    "df_restaurants = df_restaurants[['business_id', 'name']].copy()    #selecting required columns from original dataframe"
   ]
  },
  {
   "cell_type": "code",
   "execution_count": 5,
   "metadata": {},
   "outputs": [
    {
     "data": {
      "text/html": [
       "<div>\n",
       "<style scoped>\n",
       "    .dataframe tbody tr th:only-of-type {\n",
       "        vertical-align: middle;\n",
       "    }\n",
       "\n",
       "    .dataframe tbody tr th {\n",
       "        vertical-align: top;\n",
       "    }\n",
       "\n",
       "    .dataframe thead th {\n",
       "        text-align: right;\n",
       "    }\n",
       "</style>\n",
       "<table border=\"1\" class=\"dataframe\">\n",
       "  <thead>\n",
       "    <tr style=\"text-align: right;\">\n",
       "      <th></th>\n",
       "      <th>business_id</th>\n",
       "      <th>name</th>\n",
       "    </tr>\n",
       "  </thead>\n",
       "  <tbody>\n",
       "    <tr>\n",
       "      <th>0</th>\n",
       "      <td>Apn5Q_b6Nz61Tq4XzPdf9A</td>\n",
       "      <td>Minhas Micro Brewery</td>\n",
       "    </tr>\n",
       "    <tr>\n",
       "      <th>1</th>\n",
       "      <td>AjEbIBw6ZFfln7ePHha9PA</td>\n",
       "      <td>CK'S BBQ &amp; Catering</td>\n",
       "    </tr>\n",
       "    <tr>\n",
       "      <th>2</th>\n",
       "      <td>O8S5hYJ1SMc8fA4QBtVujA</td>\n",
       "      <td>La Bastringue</td>\n",
       "    </tr>\n",
       "    <tr>\n",
       "      <th>3</th>\n",
       "      <td>6OuOZAok8ikONMS_T3EzXg</td>\n",
       "      <td>Thai One On</td>\n",
       "    </tr>\n",
       "    <tr>\n",
       "      <th>4</th>\n",
       "      <td>8-NRKkPY1UiFXW20WXKiXg</td>\n",
       "      <td>Filiberto's Mexican Food</td>\n",
       "    </tr>\n",
       "  </tbody>\n",
       "</table>\n",
       "</div>"
      ],
      "text/plain": [
       "              business_id                      name\n",
       "0  Apn5Q_b6Nz61Tq4XzPdf9A      Minhas Micro Brewery\n",
       "1  AjEbIBw6ZFfln7ePHha9PA       CK'S BBQ & Catering\n",
       "2  O8S5hYJ1SMc8fA4QBtVujA             La Bastringue\n",
       "3  6OuOZAok8ikONMS_T3EzXg               Thai One On\n",
       "4  8-NRKkPY1UiFXW20WXKiXg  Filiberto's Mexican Food"
      ]
     },
     "execution_count": 5,
     "metadata": {},
     "output_type": "execute_result"
    }
   ],
   "source": [
    "df_restaurants.head()"
   ]
  },
  {
   "cell_type": "code",
   "execution_count": 6,
   "metadata": {},
   "outputs": [
    {
     "data": {
      "text/html": [
       "<div>\n",
       "<style scoped>\n",
       "    .dataframe tbody tr th:only-of-type {\n",
       "        vertical-align: middle;\n",
       "    }\n",
       "\n",
       "    .dataframe tbody tr th {\n",
       "        vertical-align: top;\n",
       "    }\n",
       "\n",
       "    .dataframe thead th {\n",
       "        text-align: right;\n",
       "    }\n",
       "</style>\n",
       "<table border=\"1\" class=\"dataframe\">\n",
       "  <thead>\n",
       "    <tr style=\"text-align: right;\">\n",
       "      <th></th>\n",
       "      <th>business_id</th>\n",
       "      <th>stars</th>\n",
       "      <th>user_id</th>\n",
       "    </tr>\n",
       "  </thead>\n",
       "  <tbody>\n",
       "    <tr>\n",
       "      <th>0</th>\n",
       "      <td>iCQpiavjjPzJ5_3gPD5Ebg</td>\n",
       "      <td>2</td>\n",
       "      <td>msQe1u7Z_XuqjGoqhB0J5g</td>\n",
       "    </tr>\n",
       "    <tr>\n",
       "      <th>1</th>\n",
       "      <td>pomGBqfbxcqPv14c3XH-ZQ</td>\n",
       "      <td>5</td>\n",
       "      <td>msQe1u7Z_XuqjGoqhB0J5g</td>\n",
       "    </tr>\n",
       "    <tr>\n",
       "      <th>2</th>\n",
       "      <td>jtQARsP6P-LbkyjbO1qNGg</td>\n",
       "      <td>1</td>\n",
       "      <td>msQe1u7Z_XuqjGoqhB0J5g</td>\n",
       "    </tr>\n",
       "    <tr>\n",
       "      <th>3</th>\n",
       "      <td>elqbBhBfElMNSrjFqW3now</td>\n",
       "      <td>2</td>\n",
       "      <td>msQe1u7Z_XuqjGoqhB0J5g</td>\n",
       "    </tr>\n",
       "    <tr>\n",
       "      <th>4</th>\n",
       "      <td>Ums3gaP2qM3W1XcA5r6SsQ</td>\n",
       "      <td>5</td>\n",
       "      <td>msQe1u7Z_XuqjGoqhB0J5g</td>\n",
       "    </tr>\n",
       "  </tbody>\n",
       "</table>\n",
       "</div>"
      ],
      "text/plain": [
       "              business_id  stars                 user_id\n",
       "0  iCQpiavjjPzJ5_3gPD5Ebg      2  msQe1u7Z_XuqjGoqhB0J5g\n",
       "1  pomGBqfbxcqPv14c3XH-ZQ      5  msQe1u7Z_XuqjGoqhB0J5g\n",
       "2  jtQARsP6P-LbkyjbO1qNGg      1  msQe1u7Z_XuqjGoqhB0J5g\n",
       "3  elqbBhBfElMNSrjFqW3now      2  msQe1u7Z_XuqjGoqhB0J5g\n",
       "4  Ums3gaP2qM3W1XcA5r6SsQ      5  msQe1u7Z_XuqjGoqhB0J5g"
      ]
     },
     "execution_count": 6,
     "metadata": {},
     "output_type": "execute_result"
    }
   ],
   "source": [
    "df_reviews.head()"
   ]
  },
  {
   "cell_type": "code",
   "execution_count": 7,
   "metadata": {},
   "outputs": [
    {
     "data": {
      "text/plain": [
       "((57173, 2), (237468, 3))"
      ]
     },
     "execution_count": 7,
     "metadata": {},
     "output_type": "execute_result"
    }
   ],
   "source": [
    "df_restaurants.shape, df_reviews.shape"
   ]
  },
  {
   "cell_type": "code",
   "execution_count": 8,
   "metadata": {
    "collapsed": true
   },
   "outputs": [],
   "source": [
    "#Merging both the dataframes\n",
    "restaurant_df = pd.merge(df_reviews, df_restaurants.drop_duplicates(['business_id']), on=\"business_id\", how=\"left\")"
   ]
  },
  {
   "cell_type": "code",
   "execution_count": 9,
   "metadata": {},
   "outputs": [
    {
     "data": {
      "text/plain": [
       "Index(['business_id', 'stars', 'user_id', 'name'], dtype='object')"
      ]
     },
     "execution_count": 9,
     "metadata": {},
     "output_type": "execute_result"
    }
   ],
   "source": [
    "restaurant_df.columns"
   ]
  },
  {
   "cell_type": "code",
   "execution_count": 10,
   "metadata": {
    "collapsed": true
   },
   "outputs": [],
   "source": [
    "restaurant_df = restaurant_df[['business_id', 'user_id', 'name', 'stars']]  #Rearranging the columns"
   ]
  },
  {
   "cell_type": "code",
   "execution_count": 11,
   "metadata": {},
   "outputs": [
    {
     "data": {
      "text/html": [
       "<div>\n",
       "<style scoped>\n",
       "    .dataframe tbody tr th:only-of-type {\n",
       "        vertical-align: middle;\n",
       "    }\n",
       "\n",
       "    .dataframe tbody tr th {\n",
       "        vertical-align: top;\n",
       "    }\n",
       "\n",
       "    .dataframe thead th {\n",
       "        text-align: right;\n",
       "    }\n",
       "</style>\n",
       "<table border=\"1\" class=\"dataframe\">\n",
       "  <thead>\n",
       "    <tr style=\"text-align: right;\">\n",
       "      <th></th>\n",
       "      <th>business_id</th>\n",
       "      <th>user_id</th>\n",
       "      <th>name</th>\n",
       "      <th>stars</th>\n",
       "    </tr>\n",
       "  </thead>\n",
       "  <tbody>\n",
       "    <tr>\n",
       "      <th>0</th>\n",
       "      <td>iCQpiavjjPzJ5_3gPD5Ebg</td>\n",
       "      <td>msQe1u7Z_XuqjGoqhB0J5g</td>\n",
       "      <td>Secret Pizza</td>\n",
       "      <td>2</td>\n",
       "    </tr>\n",
       "    <tr>\n",
       "      <th>1</th>\n",
       "      <td>pomGBqfbxcqPv14c3XH-ZQ</td>\n",
       "      <td>msQe1u7Z_XuqjGoqhB0J5g</td>\n",
       "      <td>Leticia's Mexican Cocina</td>\n",
       "      <td>5</td>\n",
       "    </tr>\n",
       "    <tr>\n",
       "      <th>2</th>\n",
       "      <td>jtQARsP6P-LbkyjbO1qNGg</td>\n",
       "      <td>msQe1u7Z_XuqjGoqhB0J5g</td>\n",
       "      <td>H&amp;H BBQ Plus 2</td>\n",
       "      <td>1</td>\n",
       "    </tr>\n",
       "    <tr>\n",
       "      <th>3</th>\n",
       "      <td>elqbBhBfElMNSrjFqW3now</td>\n",
       "      <td>msQe1u7Z_XuqjGoqhB0J5g</td>\n",
       "      <td>Pin Kaow Thai Restaurant</td>\n",
       "      <td>2</td>\n",
       "    </tr>\n",
       "    <tr>\n",
       "      <th>4</th>\n",
       "      <td>Ums3gaP2qM3W1XcA5r6SsQ</td>\n",
       "      <td>msQe1u7Z_XuqjGoqhB0J5g</td>\n",
       "      <td>Braddah's Island Style</td>\n",
       "      <td>5</td>\n",
       "    </tr>\n",
       "  </tbody>\n",
       "</table>\n",
       "</div>"
      ],
      "text/plain": [
       "              business_id                 user_id                      name  \\\n",
       "0  iCQpiavjjPzJ5_3gPD5Ebg  msQe1u7Z_XuqjGoqhB0J5g              Secret Pizza   \n",
       "1  pomGBqfbxcqPv14c3XH-ZQ  msQe1u7Z_XuqjGoqhB0J5g  Leticia's Mexican Cocina   \n",
       "2  jtQARsP6P-LbkyjbO1qNGg  msQe1u7Z_XuqjGoqhB0J5g            H&H BBQ Plus 2   \n",
       "3  elqbBhBfElMNSrjFqW3now  msQe1u7Z_XuqjGoqhB0J5g  Pin Kaow Thai Restaurant   \n",
       "4  Ums3gaP2qM3W1XcA5r6SsQ  msQe1u7Z_XuqjGoqhB0J5g    Braddah's Island Style   \n",
       "\n",
       "   stars  \n",
       "0      2  \n",
       "1      5  \n",
       "2      1  \n",
       "3      2  \n",
       "4      5  "
      ]
     },
     "execution_count": 11,
     "metadata": {},
     "output_type": "execute_result"
    }
   ],
   "source": [
    "restaurant_df.head()"
   ]
  },
  {
   "cell_type": "code",
   "execution_count": 12,
   "metadata": {},
   "outputs": [
    {
     "data": {
      "text/plain": [
       "(237468, 4)"
      ]
     },
     "execution_count": 12,
     "metadata": {},
     "output_type": "execute_result"
    }
   ],
   "source": [
    "restaurant_df.shape"
   ]
  },
  {
   "cell_type": "code",
   "execution_count": 13,
   "metadata": {},
   "outputs": [
    {
     "data": {
      "text/plain": [
       "104262"
      ]
     },
     "execution_count": 13,
     "metadata": {},
     "output_type": "execute_result"
    }
   ],
   "source": [
    "#No of unique users\n",
    "users = restaurant_df['user_id'].unique()\n",
    "len(users)"
   ]
  },
  {
   "cell_type": "code",
   "execution_count": 14,
   "metadata": {},
   "outputs": [
    {
     "data": {
      "text/html": [
       "<div>\n",
       "<style scoped>\n",
       "    .dataframe tbody tr th:only-of-type {\n",
       "        vertical-align: middle;\n",
       "    }\n",
       "\n",
       "    .dataframe tbody tr th {\n",
       "        vertical-align: top;\n",
       "    }\n",
       "\n",
       "    .dataframe thead th {\n",
       "        text-align: right;\n",
       "    }\n",
       "</style>\n",
       "<table border=\"1\" class=\"dataframe\">\n",
       "  <thead>\n",
       "    <tr style=\"text-align: right;\">\n",
       "      <th></th>\n",
       "      <th>business_id</th>\n",
       "      <th>user_id</th>\n",
       "      <th>name</th>\n",
       "      <th>stars</th>\n",
       "    </tr>\n",
       "  </thead>\n",
       "  <tbody>\n",
       "    <tr>\n",
       "      <th>230703</th>\n",
       "      <td>3ZHyw0d8mk0HOEP7v4fW1A</td>\n",
       "      <td>zfLngxTs7Dvs2tXmz4vSmw</td>\n",
       "      <td>Krung Thai Restaurant</td>\n",
       "      <td>3</td>\n",
       "    </tr>\n",
       "    <tr>\n",
       "      <th>97906</th>\n",
       "      <td>VSX3ixrqQFwwGBUf15s0EQ</td>\n",
       "      <td>g5BftD2l8pS4dW7zv8P87Q</td>\n",
       "      <td>Grassroots Kitchen &amp; Tap</td>\n",
       "      <td>4</td>\n",
       "    </tr>\n",
       "    <tr>\n",
       "      <th>155206</th>\n",
       "      <td>N5mcKKdcmwirw1bFhE80Sw</td>\n",
       "      <td>8GwL3hkpkFUmDJkO8jOvmg</td>\n",
       "      <td>The Living Room Wine CafÃ© &amp; Lounge</td>\n",
       "      <td>2</td>\n",
       "    </tr>\n",
       "    <tr>\n",
       "      <th>93758</th>\n",
       "      <td>v3rXLmTCX6ZFR6kIYTY2fg</td>\n",
       "      <td>LjsaERLKfh_GtLqLcEw9Hg</td>\n",
       "      <td>Istanbul Grille</td>\n",
       "      <td>5</td>\n",
       "    </tr>\n",
       "    <tr>\n",
       "      <th>112167</th>\n",
       "      <td>QsJ6orXv_VB7xz-MpqHzSQ</td>\n",
       "      <td>ydEqM2xb86e2OUIV6ZQkVg</td>\n",
       "      <td>Pomegranate Cafe</td>\n",
       "      <td>5</td>\n",
       "    </tr>\n",
       "  </tbody>\n",
       "</table>\n",
       "</div>"
      ],
      "text/plain": [
       "                   business_id                 user_id  \\\n",
       "230703  3ZHyw0d8mk0HOEP7v4fW1A  zfLngxTs7Dvs2tXmz4vSmw   \n",
       "97906   VSX3ixrqQFwwGBUf15s0EQ  g5BftD2l8pS4dW7zv8P87Q   \n",
       "155206  N5mcKKdcmwirw1bFhE80Sw  8GwL3hkpkFUmDJkO8jOvmg   \n",
       "93758   v3rXLmTCX6ZFR6kIYTY2fg  LjsaERLKfh_GtLqLcEw9Hg   \n",
       "112167  QsJ6orXv_VB7xz-MpqHzSQ  ydEqM2xb86e2OUIV6ZQkVg   \n",
       "\n",
       "                                       name  stars  \n",
       "230703                Krung Thai Restaurant      3  \n",
       "97906              Grassroots Kitchen & Tap      4  \n",
       "155206  The Living Room Wine CafÃ© & Lounge      2  \n",
       "93758                       Istanbul Grille      5  \n",
       "112167                     Pomegranate Cafe      5  "
      ]
     },
     "execution_count": 14,
     "metadata": {},
     "output_type": "execute_result"
    }
   ],
   "source": [
    "train_data, test_data = train_test_split(restaurant_df, test_size = 0.20, random_state=0)\n",
    "train_data.head(5)"
   ]
  },
  {
   "cell_type": "code",
   "execution_count": 15,
   "metadata": {},
   "outputs": [
    {
     "data": {
      "text/plain": [
       "90320"
      ]
     },
     "execution_count": 15,
     "metadata": {},
     "output_type": "execute_result"
    }
   ],
   "source": [
    "users = train_data['user_id'].unique()\n",
    "len(users)"
   ]
  },
  {
   "cell_type": "markdown",
   "metadata": {},
   "source": [
    "## Popularity Based Recommender"
   ]
  },
  {
   "cell_type": "code",
   "execution_count": 16,
   "metadata": {
    "collapsed": true,
    "scrolled": true
   },
   "outputs": [],
   "source": [
    "def popularity_recommender(train_df, user_id):\n",
    "    #Calculating average ratings for each restaurants\n",
    "    restaurants_grouped = train_df.groupby(['business_id']).agg({'stars': 'mean'}).reset_index()\n",
    "    restaurants_grouped.rename(columns = {'stars': 'average_rating'},inplace=True)\n",
    "    #Sort the restaurants based on ratings in descending order\n",
    "    df_sort = restaurants_grouped.sort_values(['average_rating', 'business_id'], ascending = [False, True])\n",
    "    #Generate a ranking system based on ratings\n",
    "    df_sort['Rank'] = restaurants_grouped['average_rating'].rank(ascending = 0, method = 'first')\n",
    "    #Get top 10 restaurants\n",
    "    df_top_ten = df_sort.head(10)\n",
    "    #Adding user_id for which the recommendations are created\n",
    "    df_top_ten['user_id'] = user_id\n",
    "    return df_top_ten"
   ]
  },
  {
   "cell_type": "code",
   "execution_count": 17,
   "metadata": {},
   "outputs": [
    {
     "name": "stderr",
     "output_type": "stream",
     "text": [
      "C:\\Users\\Pratheesh\\Anaconda3\\lib\\site-packages\\ipykernel_launcher.py:12: SettingWithCopyWarning: \n",
      "A value is trying to be set on a copy of a slice from a DataFrame.\n",
      "Try using .loc[row_indexer,col_indexer] = value instead\n",
      "\n",
      "See the caveats in the documentation: http://pandas.pydata.org/pandas-docs/stable/indexing.html#indexing-view-versus-copy\n",
      "  if sys.path[0] == '':\n"
     ]
    },
    {
     "data": {
      "text/html": [
       "<div>\n",
       "<style scoped>\n",
       "    .dataframe tbody tr th:only-of-type {\n",
       "        vertical-align: middle;\n",
       "    }\n",
       "\n",
       "    .dataframe tbody tr th {\n",
       "        vertical-align: top;\n",
       "    }\n",
       "\n",
       "    .dataframe thead th {\n",
       "        text-align: right;\n",
       "    }\n",
       "</style>\n",
       "<table border=\"1\" class=\"dataframe\">\n",
       "  <thead>\n",
       "    <tr style=\"text-align: right;\">\n",
       "      <th></th>\n",
       "      <th>business_id</th>\n",
       "      <th>average_rating</th>\n",
       "      <th>Rank</th>\n",
       "      <th>user_id</th>\n",
       "    </tr>\n",
       "  </thead>\n",
       "  <tbody>\n",
       "    <tr>\n",
       "      <th>4</th>\n",
       "      <td>--GM_ORV2cYS-h38DSaCLw</td>\n",
       "      <td>5.0</td>\n",
       "      <td>1.0</td>\n",
       "      <td>7H0vJk-mjuXgvvGwj_8pyg</td>\n",
       "    </tr>\n",
       "    <tr>\n",
       "      <th>5</th>\n",
       "      <td>--Gc998IMjLn8yr-HTzGUg</td>\n",
       "      <td>5.0</td>\n",
       "      <td>2.0</td>\n",
       "      <td>7H0vJk-mjuXgvvGwj_8pyg</td>\n",
       "    </tr>\n",
       "    <tr>\n",
       "      <th>7</th>\n",
       "      <td>--KCl2FvVQpvjzmZSPyviA</td>\n",
       "      <td>5.0</td>\n",
       "      <td>3.0</td>\n",
       "      <td>7H0vJk-mjuXgvvGwj_8pyg</td>\n",
       "    </tr>\n",
       "    <tr>\n",
       "      <th>22</th>\n",
       "      <td>-0aIra_B6iALlfqAriBSYA</td>\n",
       "      <td>5.0</td>\n",
       "      <td>4.0</td>\n",
       "      <td>7H0vJk-mjuXgvvGwj_8pyg</td>\n",
       "    </tr>\n",
       "    <tr>\n",
       "      <th>36</th>\n",
       "      <td>-2WW_cjFa9-UwKSmbEs78Q</td>\n",
       "      <td>5.0</td>\n",
       "      <td>5.0</td>\n",
       "      <td>7H0vJk-mjuXgvvGwj_8pyg</td>\n",
       "    </tr>\n",
       "    <tr>\n",
       "      <th>38</th>\n",
       "      <td>-2isRNVb6PDuBagELL5EBw</td>\n",
       "      <td>5.0</td>\n",
       "      <td>6.0</td>\n",
       "      <td>7H0vJk-mjuXgvvGwj_8pyg</td>\n",
       "    </tr>\n",
       "    <tr>\n",
       "      <th>52</th>\n",
       "      <td>-59dl6bXMKpmv38TosZJlg</td>\n",
       "      <td>5.0</td>\n",
       "      <td>7.0</td>\n",
       "      <td>7H0vJk-mjuXgvvGwj_8pyg</td>\n",
       "    </tr>\n",
       "    <tr>\n",
       "      <th>64</th>\n",
       "      <td>-79cl_yASWXiv7RmzirNxA</td>\n",
       "      <td>5.0</td>\n",
       "      <td>8.0</td>\n",
       "      <td>7H0vJk-mjuXgvvGwj_8pyg</td>\n",
       "    </tr>\n",
       "    <tr>\n",
       "      <th>76</th>\n",
       "      <td>-8F04F54iDT6VgWPCgybug</td>\n",
       "      <td>5.0</td>\n",
       "      <td>9.0</td>\n",
       "      <td>7H0vJk-mjuXgvvGwj_8pyg</td>\n",
       "    </tr>\n",
       "    <tr>\n",
       "      <th>87</th>\n",
       "      <td>-9CvNuJ35elp7YwIy4xHDw</td>\n",
       "      <td>5.0</td>\n",
       "      <td>10.0</td>\n",
       "      <td>7H0vJk-mjuXgvvGwj_8pyg</td>\n",
       "    </tr>\n",
       "  </tbody>\n",
       "</table>\n",
       "</div>"
      ],
      "text/plain": [
       "               business_id  average_rating  Rank                 user_id\n",
       "4   --GM_ORV2cYS-h38DSaCLw             5.0   1.0  7H0vJk-mjuXgvvGwj_8pyg\n",
       "5   --Gc998IMjLn8yr-HTzGUg             5.0   2.0  7H0vJk-mjuXgvvGwj_8pyg\n",
       "7   --KCl2FvVQpvjzmZSPyviA             5.0   3.0  7H0vJk-mjuXgvvGwj_8pyg\n",
       "22  -0aIra_B6iALlfqAriBSYA             5.0   4.0  7H0vJk-mjuXgvvGwj_8pyg\n",
       "36  -2WW_cjFa9-UwKSmbEs78Q             5.0   5.0  7H0vJk-mjuXgvvGwj_8pyg\n",
       "38  -2isRNVb6PDuBagELL5EBw             5.0   6.0  7H0vJk-mjuXgvvGwj_8pyg\n",
       "52  -59dl6bXMKpmv38TosZJlg             5.0   7.0  7H0vJk-mjuXgvvGwj_8pyg\n",
       "64  -79cl_yASWXiv7RmzirNxA             5.0   8.0  7H0vJk-mjuXgvvGwj_8pyg\n",
       "76  -8F04F54iDT6VgWPCgybug             5.0   9.0  7H0vJk-mjuXgvvGwj_8pyg\n",
       "87  -9CvNuJ35elp7YwIy4xHDw             5.0  10.0  7H0vJk-mjuXgvvGwj_8pyg"
      ]
     },
     "execution_count": 17,
     "metadata": {},
     "output_type": "execute_result"
    }
   ],
   "source": [
    "user_id = users[5]\n",
    "popularity_recommender(restaurant_df, user_id)"
   ]
  },
  {
   "cell_type": "markdown",
   "metadata": {},
   "source": [
    "## Similarity Based Personal Recommender System"
   ]
  },
  {
   "cell_type": "code",
   "execution_count": 18,
   "metadata": {
    "collapsed": true
   },
   "outputs": [],
   "source": [
    "#Get unique restaurants for a given user\n",
    "def get_user_items(train_df, user):\n",
    "    user_data =train_df[train_df['user_id'] == user]\n",
    "    user_items = list(user_data['business_id'].unique())\n",
    "    return user_items"
   ]
  },
  {
   "cell_type": "code",
   "execution_count": 19,
   "metadata": {
    "collapsed": true
   },
   "outputs": [],
   "source": [
    "#Get unique users for a given restaurant\n",
    "def get_items_users(train_df, item):\n",
    "    item_data = train_df[train_df['business_id'] == item]\n",
    "    item_users = set(item_data['user_id'].unique())\n",
    "    return item_users"
   ]
  },
  {
   "cell_type": "code",
   "execution_count": 20,
   "metadata": {
    "collapsed": true
   },
   "outputs": [],
   "source": [
    "#Get all unique restaurants from training data\n",
    "def get_all_items(train_df):\n",
    "    all_items = list(train_df['business_id'].unique())\n",
    "    return all_items"
   ]
  },
  {
   "cell_type": "code",
   "execution_count": 21,
   "metadata": {
    "collapsed": true
   },
   "outputs": [],
   "source": [
    "def construct_cocurrence_matrix(train_df, user_rest, all_rest):\n",
    "    #Get users for all restaurants in user_rest\n",
    "    user_rest_users = []\n",
    "    for i in range(0,len(user_rest)):\n",
    "        user_rest_users.append(get_items_users(train_df,user_rest[i]))\n",
    "        \n",
    "        '''\n",
    "        Initialize the item cocurrence matrix of size\n",
    "        len(user_rest) x len(rest)\n",
    "        '''\n",
    "        cocurrence_matrix = np.matrix(np.zeros(shape=(len(user_rest), len(all_rest))),float)\n",
    "        '''\n",
    "        Calculate similarity between user restaurants and all unique restaurants\n",
    "        in training data\n",
    "        '''\n",
    "        \n",
    "    for i in range(0,len(all_rest)):\n",
    "        #Calculate unique customers of restaurant i\n",
    "        rest_i_data = train_df[train_df['business_id'] == all_rest[i]]\n",
    "        users_i = set(rest_i_data['user_id'].unique())\n",
    "            \n",
    "        for j in range(0, len(user_rest)):\n",
    "            #Get unique customers of restaurant j\n",
    "            users_j = user_rest_users[j]\n",
    "                \n",
    "            #Calculate intersection of customers of restaurant i and j\n",
    "            users_intersection = users_i.intersection(users_j)\n",
    "                \n",
    "            #Calculate cocurrence_matrix[i,j] \n",
    "            if len(users_intersection)!= 0:\n",
    "                #Calculate union of customers of restaurant i and j\n",
    "                users_union = users_i.union(users_j)\n",
    "                cocurrence_matrix[j,i] = float(len(users_intersection))/float(len(users_union))\n",
    "            else:\n",
    "                cocurrence_matrix[j,i] = 0\n",
    "    return cocurrence_matrix"
   ]
  },
  {
   "cell_type": "code",
   "execution_count": 22,
   "metadata": {
    "collapsed": true
   },
   "outputs": [],
   "source": [
    "def generate_recommendations(user, cocurrence_matrix, all_rest, user_rest):\n",
    "    print(\"Non zero values in cocurrence matrix: %d\" %np.count_nonzero(cocurrence_matrix))\n",
    "    \n",
    "    #Calculate a weighted average of the scores for all the songs\n",
    "    user_sim_scores = cocurrence_matrix.sum(axis = 0)/float(cocurrence_matrix.shape[0])\n",
    "    user_sim_scores = np.array(user_sim_scores)[0].tolist()\n",
    "    \n",
    "    #Sorting indices of user_sim_scores based upon their value\n",
    "    sort_index = sorted(((e,i) for i,e in enumerate(list(user_sim_scores))), reverse = True)\n",
    "    \n",
    "    #Create a dataframe\n",
    "    columns = ['user_id', 'business_id', 'score', 'rank']\n",
    "    df = pd.DataFrame(columns = columns)\n",
    "    \n",
    "    #Filling the dataframe with top 10 recommendations\n",
    "    rank = 1\n",
    "    for i in range(0,len(sort_index)):\n",
    "        if ~np.isnan(sort_index[i][0]) and all_rest[sort_index[i][1]] not in user_rest and rank <10:\n",
    "            df.loc[len(df)] = [user, all_rest[sort_index[i][1]], sort_index[i][0], rank]\n",
    "            rank = rank + 1\n",
    "        \n",
    "    #Handling the case where there is no recommendations\n",
    "    if df.shape[0] == 0:\n",
    "        print(\"Current user has no data for training the item similarity based recommendations\")\n",
    "        return -1\n",
    "    else:\n",
    "        return df\n"
   ]
  },
  {
   "cell_type": "code",
   "execution_count": 23,
   "metadata": {
    "collapsed": true
   },
   "outputs": [],
   "source": [
    "def recommend(train_df,user):\n",
    "    #Get all unique restaurants for this user\n",
    "    user_rest = get_user_items(train_df,user)\n",
    "    print(\"No. of unique restaurants for the user: %d\" %len(user_rest))\n",
    "    \n",
    "    #Get all unique restaurants in the training data\n",
    "    all_rest = get_all_items(train_df)\n",
    "    print(\"No. of unique restaurants in the training set: %d\" %len(all_rest))\n",
    "    \n",
    "    #Construct cocurrence matrix\n",
    "    cocurrence_matrix = construct_cocurrence_matrix(train_df,user_rest, all_rest)\n",
    "    \n",
    "    #Use the cocurrence matrix to make recommendations\n",
    "    df_recommend = generate_recommendations(user, cocurrence_matrix, all_rest,user_rest)\n",
    "    return df_recommend"
   ]
  },
  {
   "cell_type": "code",
   "execution_count": 24,
   "metadata": {
    "collapsed": true
   },
   "outputs": [],
   "source": [
    "def get_similar_items(train_df,item_list):\n",
    "    user_rest = item_list\n",
    "    all_rest = get_all_items(train_df)\n",
    "    \n",
    "    print(\"No. of unique restaurants in the training set: %d\" %len(all_rest))\n",
    "    \n",
    "    #Construct item cocurrence matrix to make recommendations\n",
    "    cocurrence_matrix = construct_cocurrence_matrix(user_rest, all_rest)\n",
    "    \n",
    "    #Use the cocurrence amtrix to make recommendations\n",
    "    user =\"\"\n",
    "    df_recommendations = generate_recommendations(user, cocurrence_matrix, all_rest, user_rest)\n",
    "    \n",
    "    return df_recommendations"
   ]
  },
  {
   "cell_type": "code",
   "execution_count": 37,
   "metadata": {
    "collapsed": true
   },
   "outputs": [],
   "source": [
    "user_id = users[351]\n",
    "user_items = get_user_items(train_data, user_id)"
   ]
  },
  {
   "cell_type": "code",
   "execution_count": 38,
   "metadata": {
    "scrolled": false
   },
   "outputs": [
    {
     "name": "stdout",
     "output_type": "stream",
     "text": [
      "No. of unique restaurants for the user: 7\n",
      "No. of unique restaurants in the training set: 36257\n",
      "Non zero values in cocurrence matrix: 522\n"
     ]
    },
    {
     "data": {
      "text/html": [
       "<div>\n",
       "<style scoped>\n",
       "    .dataframe tbody tr th:only-of-type {\n",
       "        vertical-align: middle;\n",
       "    }\n",
       "\n",
       "    .dataframe tbody tr th {\n",
       "        vertical-align: top;\n",
       "    }\n",
       "\n",
       "    .dataframe thead th {\n",
       "        text-align: right;\n",
       "    }\n",
       "</style>\n",
       "<table border=\"1\" class=\"dataframe\">\n",
       "  <thead>\n",
       "    <tr style=\"text-align: right;\">\n",
       "      <th></th>\n",
       "      <th>user_id</th>\n",
       "      <th>business_id</th>\n",
       "      <th>score</th>\n",
       "      <th>rank</th>\n",
       "    </tr>\n",
       "  </thead>\n",
       "  <tbody>\n",
       "    <tr>\n",
       "      <th>0</th>\n",
       "      <td>i5O1z5htF7slUq_0D94dOQ</td>\n",
       "      <td>FoyNJ9w3cYW_YnDjiaHK2A</td>\n",
       "      <td>0.025275</td>\n",
       "      <td>1</td>\n",
       "    </tr>\n",
       "    <tr>\n",
       "      <th>1</th>\n",
       "      <td>i5O1z5htF7slUq_0D94dOQ</td>\n",
       "      <td>Y0E0MsmJagLlyiSUn9uv-w</td>\n",
       "      <td>0.025275</td>\n",
       "      <td>2</td>\n",
       "    </tr>\n",
       "    <tr>\n",
       "      <th>2</th>\n",
       "      <td>i5O1z5htF7slUq_0D94dOQ</td>\n",
       "      <td>HvVV1N9RyxsJhayQeDuuTA</td>\n",
       "      <td>0.023810</td>\n",
       "      <td>3</td>\n",
       "    </tr>\n",
       "    <tr>\n",
       "      <th>3</th>\n",
       "      <td>i5O1z5htF7slUq_0D94dOQ</td>\n",
       "      <td>nuJbVf0KUcpMG3i3RtNd_A</td>\n",
       "      <td>0.023191</td>\n",
       "      <td>4</td>\n",
       "    </tr>\n",
       "    <tr>\n",
       "      <th>4</th>\n",
       "      <td>i5O1z5htF7slUq_0D94dOQ</td>\n",
       "      <td>GI9nWATB9s_1ECMSNnXEJA</td>\n",
       "      <td>0.023191</td>\n",
       "      <td>5</td>\n",
       "    </tr>\n",
       "    <tr>\n",
       "      <th>5</th>\n",
       "      <td>i5O1z5htF7slUq_0D94dOQ</td>\n",
       "      <td>KYxiIkANSVjLhdO939GK6A</td>\n",
       "      <td>0.023191</td>\n",
       "      <td>6</td>\n",
       "    </tr>\n",
       "    <tr>\n",
       "      <th>6</th>\n",
       "      <td>i5O1z5htF7slUq_0D94dOQ</td>\n",
       "      <td>5aGYZbjkXpCecz4QH2ZKFg</td>\n",
       "      <td>0.021429</td>\n",
       "      <td>7</td>\n",
       "    </tr>\n",
       "    <tr>\n",
       "      <th>7</th>\n",
       "      <td>i5O1z5htF7slUq_0D94dOQ</td>\n",
       "      <td>WCkh_ZcsWKU1wx4bqyU9KA</td>\n",
       "      <td>0.020408</td>\n",
       "      <td>8</td>\n",
       "    </tr>\n",
       "    <tr>\n",
       "      <th>8</th>\n",
       "      <td>i5O1z5htF7slUq_0D94dOQ</td>\n",
       "      <td>VvXI3pyUFl1MAimZsX5RrA</td>\n",
       "      <td>0.019918</td>\n",
       "      <td>9</td>\n",
       "    </tr>\n",
       "  </tbody>\n",
       "</table>\n",
       "</div>"
      ],
      "text/plain": [
       "                  user_id             business_id     score rank\n",
       "0  i5O1z5htF7slUq_0D94dOQ  FoyNJ9w3cYW_YnDjiaHK2A  0.025275    1\n",
       "1  i5O1z5htF7slUq_0D94dOQ  Y0E0MsmJagLlyiSUn9uv-w  0.025275    2\n",
       "2  i5O1z5htF7slUq_0D94dOQ  HvVV1N9RyxsJhayQeDuuTA  0.023810    3\n",
       "3  i5O1z5htF7slUq_0D94dOQ  nuJbVf0KUcpMG3i3RtNd_A  0.023191    4\n",
       "4  i5O1z5htF7slUq_0D94dOQ  GI9nWATB9s_1ECMSNnXEJA  0.023191    5\n",
       "5  i5O1z5htF7slUq_0D94dOQ  KYxiIkANSVjLhdO939GK6A  0.023191    6\n",
       "6  i5O1z5htF7slUq_0D94dOQ  5aGYZbjkXpCecz4QH2ZKFg  0.021429    7\n",
       "7  i5O1z5htF7slUq_0D94dOQ  WCkh_ZcsWKU1wx4bqyU9KA  0.020408    8\n",
       "8  i5O1z5htF7slUq_0D94dOQ  VvXI3pyUFl1MAimZsX5RrA  0.019918    9"
      ]
     },
     "execution_count": 38,
     "metadata": {},
     "output_type": "execute_result"
    }
   ],
   "source": [
    "recommend(train_data,user_id)"
   ]
  },
  {
   "cell_type": "code",
   "execution_count": null,
   "metadata": {
    "collapsed": true
   },
   "outputs": [],
   "source": []
  }
 ],
 "metadata": {
  "kernelspec": {
   "display_name": "Python 3",
   "language": "python",
   "name": "python3"
  },
  "language_info": {
   "codemirror_mode": {
    "name": "ipython",
    "version": 3
   },
   "file_extension": ".py",
   "mimetype": "text/x-python",
   "name": "python",
   "nbconvert_exporter": "python",
   "pygments_lexer": "ipython3",
   "version": "3.6.4"
  }
 },
 "nbformat": 4,
 "nbformat_minor": 2
}
